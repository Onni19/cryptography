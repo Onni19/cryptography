{
  "nbformat": 4,
  "nbformat_minor": 0,
  "metadata": {
    "colab": {
      "provenance": []
    },
    "kernelspec": {
      "name": "python3",
      "display_name": "Python 3"
    },
    "language_info": {
      "name": "python"
    }
  },
  "cells": [
    {
      "cell_type": "code",
      "execution_count": null,
      "metadata": {
        "id": "Gz9uFCMdP0mf"
      },
      "outputs": [],
      "source": [
        "message = 'cbc' * 100"
      ]
    },
    {
      "cell_type": "code",
      "source": [
        "msg = ''\n",
        "\n",
        "for character in message:\n",
        "    ascii = ord(character)\n",
        "    hexValue = format(ascii, 'x')\n",
        "    msg += hexValue"
      ],
      "metadata": {
        "id": "9RZdDwL4spy3"
      },
      "execution_count": null,
      "outputs": []
    },
    {
      "cell_type": "code",
      "source": [
        "messageLength = len(message) * 8\n",
        "L = format(messageLength, 'x').zfill(32)"
      ],
      "metadata": {
        "id": "eIoYLDRcspOf"
      },
      "execution_count": null,
      "outputs": []
    },
    {
      "cell_type": "code",
      "source": [
        "binaryPaddingLength = (-messageLength - 128) % 1024\n",
        "hexPaddingLength = int(binaryPaddingLength / 4)\n",
        "if hexPaddingLength == 0:\n",
        "    hexPaddingLength = int(1024/4)\n",
        "padding = '8'.ljust(hexPaddingLength, '0')"
      ],
      "metadata": {
        "id": "YFO6Zu-oss8H"
      },
      "execution_count": null,
      "outputs": []
    },
    {
      "cell_type": "code",
      "source": [
        "print(msg)"
      ],
      "metadata": {
        "colab": {
          "base_uri": "https://localhost:8080/"
        },
        "id": "-bx7ZonbspZb",
        "outputId": "769dd729-7e8d-45b9-9880-09ff6529e3bc"
      },
      "execution_count": null,
      "outputs": [
        {
          "output_type": "stream",
          "name": "stdout",
          "text": [
            "636263636263636263636263636263636263636263636263636263636263636263636263636263636263636263636263636263636263636263636263636263636263636263636263636263636263636263636263636263636263636263636263636263636263636263636263636263636263636263636263636263636263636263636263636263636263636263636263636263636263636263636263636263636263636263636263636263636263636263636263636263636263636263636263636263636263636263636263636263636263636263636263636263636263636263636263636263636263636263636263636263636263636263636263636263636263636263636263636263636263636263636263636263636263636263636263636263636263636263636263\n"
          ]
        }
      ]
    },
    {
      "cell_type": "code",
      "source": [
        "print(L)"
      ],
      "metadata": {
        "colab": {
          "base_uri": "https://localhost:8080/"
        },
        "id": "r0wBt0OTso_N",
        "outputId": "fda64ab2-bc50-4c30-93c1-f1a13e41b2cc"
      },
      "execution_count": null,
      "outputs": [
        {
          "output_type": "stream",
          "name": "stdout",
          "text": [
            "00000000000000000000000000000960\n"
          ]
        }
      ]
    },
    {
      "cell_type": "code",
      "source": [
        "print(padding)"
      ],
      "metadata": {
        "colab": {
          "base_uri": "https://localhost:8080/"
        },
        "id": "2Z6E9Rs1sszi",
        "outputId": "54e85cfb-0bb0-440d-c19d-f576e3995dcf"
      },
      "execution_count": null,
      "outputs": [
        {
          "output_type": "stream",
          "name": "stdout",
          "text": [
            "8000000000000000000000000000000000000000000000000000000000000000000000000000000000000000000000000000000000000000000000000000000000000000\n"
          ]
        }
      ]
    },
    {
      "cell_type": "code",
      "source": [
        "input = msg + padding + L"
      ],
      "metadata": {
        "id": "NoO3frnHsstu"
      },
      "execution_count": null,
      "outputs": []
    },
    {
      "cell_type": "code",
      "source": [
        "def long_array_splitter(array, length):\n",
        "    return [array[i:i + length] for i in range(0, len(array), length)]"
      ],
      "metadata": {
        "id": "We4Ld6AZtbz7"
      },
      "execution_count": null,
      "outputs": []
    },
    {
      "cell_type": "code",
      "source": [
        "M = long_array_splitter(input, 256)"
      ],
      "metadata": {
        "id": "CJ4AYenOwEag"
      },
      "execution_count": null,
      "outputs": []
    },
    {
      "cell_type": "code",
      "source": [
        "M"
      ],
      "metadata": {
        "colab": {
          "base_uri": "https://localhost:8080/"
        },
        "id": "zayrmFWj2AeO",
        "outputId": "c6cadbdb-83b6-4ffe-a005-18430507c5b9"
      },
      "execution_count": null,
      "outputs": [
        {
          "output_type": "execute_result",
          "data": {
            "text/plain": [
              "['6362636362636362636362636362636362636362636362636362636362636362636362636362636362636362636362636362636362636362636362636362636362636362636362636362636362636362636362636362636362636362636362636362636362636362636362636362636362636362636362636362636362636362',\n",
              " '6363626363626363626363626363626363626363626363626363626363626363626363626363626363626363626363626363626363626363626363626363626363626363626363626363626363626363626363626363626363626363626363626363626363626363626363626363626363626363626363626363626363626363',\n",
              " '6263636263636263636263636263636263636263636263636263636263636263636263636263636263636263800000000000000000000000000000000000000000000000000000000000000000000000000000000000000000000000000000000000000000000000000000000000000000000000000000000000000000000960']"
            ]
          },
          "metadata": {},
          "execution_count": 38
        }
      ]
    },
    {
      "cell_type": "code",
      "source": [
        "W = [long_array_splitter(m, 16) for m in M]"
      ],
      "metadata": {
        "id": "FNCY1jK91_M7"
      },
      "execution_count": null,
      "outputs": []
    },
    {
      "cell_type": "code",
      "source": [
        "for w in W:\n",
        "    for i in range(0,len(w), 4):\n",
        "        print(' '.join(w[i:i+4]))\n",
        "    print()"
      ],
      "metadata": {
        "colab": {
          "base_uri": "https://localhost:8080/"
        },
        "id": "HmPxchz4Xb0O",
        "outputId": "5ad35540-3c5f-4f4b-8716-213629756279"
      },
      "execution_count": null,
      "outputs": [
        {
          "output_type": "stream",
          "name": "stdout",
          "text": [
            "6362636362636362 6363626363626363 6263636263636263 6362636362636362\n",
            "6363626363626363 6263636263636263 6362636362636362 6363626363626363\n",
            "6263636263636263 6362636362636362 6363626363626363 6263636263636263\n",
            "6362636362636362 6363626363626363 6263636263636263 6362636362636362\n",
            "\n",
            "6363626363626363 6263636263636263 6362636362636362 6363626363626363\n",
            "6263636263636263 6362636362636362 6363626363626363 6263636263636263\n",
            "6362636362636362 6363626363626363 6263636263636263 6362636362636362\n",
            "6363626363626363 6263636263636263 6362636362636362 6363626363626363\n",
            "\n",
            "6263636263636263 6362636362636362 6363626363626363 6263636263636263\n",
            "6362636362636362 6363626380000000 0000000000000000 0000000000000000\n",
            "0000000000000000 0000000000000000 0000000000000000 0000000000000000\n",
            "0000000000000000 0000000000000000 0000000000000000 0000000000000960\n",
            "\n"
          ]
        }
      ]
    },
    {
      "cell_type": "code",
      "source": [
        "def modulo_2_adder(*argv):\n",
        "    sum = 0\n",
        "    for arg in argv:\n",
        "        sum = sum + int(arg, 16)\n",
        "        sum = (2**64-1) & sum\n",
        "    \n",
        "    result = format(sum, 'x').zfill(16)\n",
        "    return result"
      ],
      "metadata": {
        "id": "Sf2DzfvJIawA"
      },
      "execution_count": null,
      "outputs": []
    },
    {
      "cell_type": "code",
      "source": [
        "def ROTR(x,n,len=64):\n",
        "    return (2**len-1)&(x>>n|x<<(len-n))"
      ],
      "metadata": {
        "id": "S_lwa2e3UAYE"
      },
      "execution_count": null,
      "outputs": []
    },
    {
      "cell_type": "code",
      "source": [
        "def SHR(x,n,len=64):\n",
        "    return (2**len-1)&(x>>n)"
      ],
      "metadata": {
        "id": "GyA9pvOFU1Dw"
      },
      "execution_count": null,
      "outputs": []
    },
    {
      "cell_type": "code",
      "source": [
        "def sigma_zero(x):\n",
        "    X = int(x,16)\n",
        "    result = ROTR(X,1) ^ ROTR(X,8) ^ SHR(X,7)\n",
        "    return format(result, 'x').zfill(16)"
      ],
      "metadata": {
        "id": "CZK9v1EN39-t"
      },
      "execution_count": null,
      "outputs": []
    },
    {
      "cell_type": "code",
      "source": [
        "def sigma_one(x):\n",
        "    X = int(x,16)\n",
        "    result = ROTR(X,19) ^ ROTR(X,61) ^ SHR(X,6)\n",
        "    return format(result, 'x').zfill(16)"
      ],
      "metadata": {
        "id": "iJ1SIdBW3XWi"
      },
      "execution_count": null,
      "outputs": []
    },
    {
      "cell_type": "code",
      "source": [
        "def derive_block(W, t):\n",
        "    newBlock = modulo_2_adder(W[t-16], sigma_zero(W[t-15]), W[t-7], sigma_one(W[t-2]))\n",
        "    return newBlock"
      ],
      "metadata": {
        "id": "YaZcyNIF46Fv"
      },
      "execution_count": null,
      "outputs": []
    },
    {
      "cell_type": "code",
      "source": [
        "H = ['6A09E667F3BCC908', 'BB67AE8584CAA73B', '3C6EF372FE94F82B', 'A54FF53A5F1D36F1',\n",
        "     '510E527FADE682D1', '9B05688C2B3E6C1F', '1F83D9ABFB41BD6B', '5BE0CD19137E2179']"
      ],
      "metadata": {
        "id": "LccmqRK-_PsA"
      },
      "execution_count": null,
      "outputs": []
    },
    {
      "cell_type": "code",
      "source": [
        "def Ch(e,f,g):\n",
        "    E = int(e, 16)\n",
        "    F = int(f, 16)\n",
        "    G = int(g, 16)\n",
        "\n",
        "    result = (E & F) ^ (~E & G)\n",
        "    hexValue = format(result, 'x').zfill(16)\n",
        "\n",
        "    return hexValue\n",
        "    "
      ],
      "metadata": {
        "id": "wjL2olZZEcY3"
      },
      "execution_count": null,
      "outputs": []
    },
    {
      "cell_type": "code",
      "source": [
        "def SIGMA_zero(x):\n",
        "    X = int(x,16)\n",
        "    result = ROTR(X,28) ^ ROTR(X,34) ^ ROTR(X,39)\n",
        "    return format(result, 'x').zfill(16)"
      ],
      "metadata": {
        "id": "Gt5T4N-KEgBT"
      },
      "execution_count": null,
      "outputs": []
    },
    {
      "cell_type": "code",
      "source": [
        "def SIGMA_one(x):\n",
        "    X = int(x,16)\n",
        "    result = ROTR(X,14) ^ ROTR(X,18) ^ ROTR(X,41)\n",
        "    return format(result, 'x').zfill(16)"
      ],
      "metadata": {
        "id": "afw3d15TEbny"
      },
      "execution_count": null,
      "outputs": []
    },
    {
      "cell_type": "code",
      "source": [
        "def Maj(a,b,c):\n",
        "    A = int(a, 16)\n",
        "    B = int(b, 16)\n",
        "    C = int(c, 16)\n",
        "\n",
        "    result = (A & B) ^ (A & C) ^ (B & C)\n",
        "    hexValue = format(result, 'x').zfill(16)\n",
        "\n",
        "    return hexValue"
      ],
      "metadata": {
        "id": "SZVpuMCPEbbU"
      },
      "execution_count": null,
      "outputs": []
    },
    {
      "cell_type": "code",
      "source": [
        "K= ['428a2f98d728ae22', '7137449123ef65cd', 'b5c0fbcfec4d3b2f', 'e9b5dba58189dbbc',\n",
        "    '3956c25bf348b538', '59f111f1b605d019', '923f82a4af194f9b', 'ab1c5ed5da6d8118',\n",
        "    'd807aa98a3030242', '12835b0145706fbe', '243185be4ee4b28c', '550c7dc3d5ffb4e2',\n",
        "    '72be5d74f27b896f', '80deb1fe3b1696b1', '9bdc06a725c71235', 'c19bf174cf692694',\n",
        "    'e49b69c19ef14ad2', 'efbe4786384f25e3', '0fc19dc68b8cd5b5', '240ca1cc77ac9c65',\n",
        "    '2de92c6f592b0275', '4a7484aa6ea6e483', '5cb0a9dcbd41fbd4', '76f988da831153b5',\n",
        "    '983e5152ee66dfab', 'a831c66d2db43210', 'b00327c898fb213f', 'bf597fc7beef0ee4',\n",
        "    'c6e00bf33da88fc2', 'd5a79147930aa725', '06ca6351e003826f', '142929670a0e6e70',\n",
        "    '27b70a8546d22ffc', '2e1b21385c26c926', '4d2c6dfc5ac42aed', '53380d139d95b3df',\n",
        "    '650a73548baf63de', '766a0abb3c77b2a8', '81c2c92e47edaee6', '92722c851482353b',\n",
        "    'a2bfe8a14cf10364', 'a81a664bbc423001', 'c24b8b70d0f89791', 'c76c51a30654be30',\n",
        "    'd192e819d6ef5218', 'd69906245565a910', 'f40e35855771202a', '106aa07032bbd1b8',\n",
        "    '19a4c116b8d2d0c8', '1e376c085141ab53', '2748774cdf8eeb99', '34b0bcb5e19b48a8',\n",
        "    '391c0cb3c5c95a63', '4ed8aa4ae3418acb', '5b9cca4f7763e373', '682e6ff3d6b2b8a3',\n",
        "    '748f82ee5defb2fc', '78a5636f43172f60', '84c87814a1f0ab72', '8cc702081a6439ec',\n",
        "    '90befffa23631e28', 'a4506cebde82bde9', 'bef9a3f7b2c67915', 'c67178f2e372532b',\n",
        "    'ca273eceea26619c', 'd186b8c721c0c207', 'eada7dd6cde0eb1e', 'f57d4f7fee6ed178',\n",
        "    '06f067aa72176fba', '0a637dc5a2c898a6', '113f9804bef90dae', '1b710b35131c471b',\n",
        "    '28db77f523047d84', '32caab7b40c72493', '3c9ebe0a15c9bebc', '431d67c49c100d4c',\n",
        "    '4cc5d4becb3e42b6', '597f299cfc657e2a', '5fcb6fab3ad6faec', '6c44198c4a475817']"
      ],
      "metadata": {
        "id": "jJNeVkhIFldw"
      },
      "execution_count": null,
      "outputs": []
    },
    {
      "cell_type": "code",
      "source": [
        "for w in W:\n",
        "    for t in range(16,80):\n",
        "        newBlock = derive_block(w, t)\n",
        "        w.append(newBlock)\n",
        "    # print(w)\n",
        "\n",
        "    (a,b,c,d,e,f,g,h) = tuple(H)\n",
        "\n",
        "    # print(f'Round-00 : a:{a}  b:{b}  c:{c}  d:{d}  e:{e}  f:{f}  g:{g}  h:{h}')\n",
        "    \n",
        "    for t in range(0,80):\n",
        "        T1 = modulo_2_adder(h, Ch(e,f,g), SIGMA_one(e), w[t],  K[t])\n",
        "        T2 = modulo_2_adder(SIGMA_zero(a), Maj(a,b,c))\n",
        "        h = g\n",
        "        g = f\n",
        "        f = e\n",
        "        e = modulo_2_adder(d, T1)\n",
        "        d = c\n",
        "        c = b\n",
        "        b = a\n",
        "        a = modulo_2_adder(T1, T2)\n",
        "\n",
        "        print(f'Round-{str(t+1).zfill(2)} : a:{a}  b:{b}  c:{c}  d:{d}  e:{e}  f:{f}  g:{g}  h:{h}')\n",
        "\n",
        "    r = [a,b,c,d,e,f,g,h]\n",
        "    newH = [modulo_2_adder(x, y) for x,y in zip(r,H)]\n",
        "    H = newH"
      ],
      "metadata": {
        "colab": {
          "base_uri": "https://localhost:8080/"
        },
        "id": "_Av9XTGU04E_",
        "outputId": "cf52de68-6b0d-4668-d6fa-16ad7d7d55ca"
      },
      "execution_count": null,
      "outputs": [
        {
          "output_type": "stream",
          "name": "stdout",
          "text": [
            "Round-00 : a:6A09E667F3BCC908  b:BB67AE8584CAA73B  c:3C6EF372FE94F82B  d:A54FF53A5F1D36F1  e:510E527FADE682D1  f:9B05688C2B3E6C1F  g:1F83D9ABFB41BD6B  h:5BE0CD19137E2179\n",
            "Round-01 : a:f8afce9c1f604157  b:6A09E667F3BCC908  c:BB67AE8584CAA73B  d:3C6EF372FE94F82B  e:5acb0217dd1882f3  f:510E527FADE682D1  g:9B05688C2B3E6C1F  h:1F83D9ABFB41BD6B\n",
            "Round-02 : a:a9ded14e56416333  b:f8afce9c1f604157  c:6A09E667F3BCC908  d:BB67AE8584CAA73B  e:223b1092e1c75448  f:5acb0217dd1882f3  g:510E527FADE682D1  h:9B05688C2B3E6C1F\n",
            "Round-03 : a:29361d8552b70d8d  b:a9ded14e56416333  c:f8afce9c1f604157  d:6A09E667F3BCC908  e:8ee31c8c6f5856a1  f:223b1092e1c75448  g:5acb0217dd1882f3  h:510E527FADE682D1\n",
            "Round-04 : a:18a2eb7382c9e1a0  b:29361d8552b70d8d  c:a9ded14e56416333  d:f8afce9c1f604157  e:63757ea45ca73682  f:8ee31c8c6f5856a1  g:223b1092e1c75448  h:5acb0217dd1882f3\n",
            "Round-05 : a:945854f424067b33  b:18a2eb7382c9e1a0  c:29361d8552b70d8d  d:a9ded14e56416333  e:3827589e246e12b7  f:63757ea45ca73682  g:8ee31c8c6f5856a1  h:223b1092e1c75448\n",
            "Round-06 : a:c0387b02046d3ccc  b:945854f424067b33  c:18a2eb7382c9e1a0  d:29361d8552b70d8d  e:b0b6cd57906b4b88  f:3827589e246e12b7  g:63757ea45ca73682  h:8ee31c8c6f5856a1\n",
            "Round-07 : a:a2ee2d96be6e96a7  b:c0387b02046d3ccc  c:945854f424067b33  d:18a2eb7382c9e1a0  e:782b762362ce4c7e  f:b0b6cd57906b4b88  g:3827589e246e12b7  h:63757ea45ca73682\n",
            "Round-08 : a:39f9369286a588b3  b:a2ee2d96be6e96a7  c:c0387b02046d3ccc  d:945854f424067b33  e:6e1591715be49d57  f:782b762362ce4c7e  g:b0b6cd57906b4b88  h:3827589e246e12b7\n",
            "Round-09 : a:e5d035ff35de6d65  b:39f9369286a588b3  c:a2ee2d96be6e96a7  d:c0387b02046d3ccc  e:ea33a9529bd87510  f:6e1591715be49d57  g:782b762362ce4c7e  h:b0b6cd57906b4b88\n",
            "Round-10 : a:11f4091b221c8bf7  b:e5d035ff35de6d65  c:39f9369286a588b3  d:a2ee2d96be6e96a7  e:c1395ca87fde4935  f:ea33a9529bd87510  g:6e1591715be49d57  h:782b762362ce4c7e\n",
            "Round-11 : a:e1975d5c4c34b9bc  b:11f4091b221c8bf7  c:e5d035ff35de6d65  d:39f9369286a588b3  e:7389b0bcaee84a86  f:c1395ca87fde4935  g:ea33a9529bd87510  h:6e1591715be49d57\n",
            "Round-12 : a:a062ad953ff45c91  b:e1975d5c4c34b9bc  c:11f4091b221c8bf7  d:e5d035ff35de6d65  e:8fa8e9f649aa0f26  f:7389b0bcaee84a86  g:c1395ca87fde4935  h:ea33a9529bd87510\n",
            "Round-13 : a:8522aad9ba3e5dd0  b:a062ad953ff45c91  c:e1975d5c4c34b9bc  d:11f4091b221c8bf7  e:2e359d3474757a13  f:8fa8e9f649aa0f26  g:7389b0bcaee84a86  h:c1395ca87fde4935\n",
            "Round-14 : a:5157495213a7c3dd  b:8522aad9ba3e5dd0  c:a062ad953ff45c91  d:e1975d5c4c34b9bc  e:440a6dc82527afcc  f:2e359d3474757a13  g:8fa8e9f649aa0f26  h:7389b0bcaee84a86\n",
            "Round-15 : a:4e4f6770a66ac9d9  b:5157495213a7c3dd  c:8522aad9ba3e5dd0  d:a062ad953ff45c91  e:93d19855bb653bdd  f:440a6dc82527afcc  g:2e359d3474757a13  h:8fa8e9f649aa0f26\n",
            "Round-16 : a:5fea4b20825e6a5c  b:4e4f6770a66ac9d9  c:5157495213a7c3dd  d:8522aad9ba3e5dd0  e:0c8a92f40a2accfc  f:93d19855bb653bdd  g:440a6dc82527afcc  h:2e359d3474757a13\n",
            "Round-17 : a:0998cde8801e5132  b:5fea4b20825e6a5c  c:4e4f6770a66ac9d9  d:5157495213a7c3dd  e:eaf6a9cb660beecf  f:0c8a92f40a2accfc  g:93d19855bb653bdd  h:440a6dc82527afcc\n",
            "Round-18 : a:43895db896bfea74  b:0998cde8801e5132  c:5fea4b20825e6a5c  d:4e4f6770a66ac9d9  e:54339bdba80f8890  f:eaf6a9cb660beecf  g:0c8a92f40a2accfc  h:93d19855bb653bdd\n",
            "Round-19 : a:38d97bc9d065d8a1  b:43895db896bfea74  c:0998cde8801e5132  d:5fea4b20825e6a5c  e:fc24738433c199aa  f:54339bdba80f8890  g:eaf6a9cb660beecf  h:0c8a92f40a2accfc\n",
            "Round-20 : a:46ba0f15a0e5d8cf  b:38d97bc9d065d8a1  c:43895db896bfea74  d:0998cde8801e5132  e:bb26c4c311341a63  f:fc24738433c199aa  g:54339bdba80f8890  h:eaf6a9cb660beecf\n",
            "Round-21 : a:9c23ae77f06435f1  b:46ba0f15a0e5d8cf  c:38d97bc9d065d8a1  d:43895db896bfea74  e:15fdeb50bb19a7bd  f:bb26c4c311341a63  g:fc24738433c199aa  h:54339bdba80f8890\n",
            "Round-22 : a:17b3a2cb821aafa8  b:9c23ae77f06435f1  c:46ba0f15a0e5d8cf  d:38d97bc9d065d8a1  e:28c7371fe26a757d  f:15fdeb50bb19a7bd  g:bb26c4c311341a63  h:fc24738433c199aa\n",
            "Round-23 : a:6b054d2683e5d604  b:17b3a2cb821aafa8  c:9c23ae77f06435f1  d:46ba0f15a0e5d8cf  e:3702b66484ed4d6d  f:28c7371fe26a757d  g:15fdeb50bb19a7bd  h:bb26c4c311341a63\n",
            "Round-24 : a:724cc88d9ab25dbf  b:6b054d2683e5d604  c:17b3a2cb821aafa8  d:9c23ae77f06435f1  e:c63f4ad016eff333  f:3702b66484ed4d6d  g:28c7371fe26a757d  h:15fdeb50bb19a7bd\n",
            "Round-25 : a:66b0043ac8b7879b  b:724cc88d9ab25dbf  c:6b054d2683e5d604  d:17b3a2cb821aafa8  e:b911c1ffafadba75  f:c63f4ad016eff333  g:3702b66484ed4d6d  h:28c7371fe26a757d\n",
            "Round-26 : a:24ac4ef8cd271285  b:66b0043ac8b7879b  c:724cc88d9ab25dbf  d:6b054d2683e5d604  e:8d96ae364028c7e4  f:b911c1ffafadba75  g:c63f4ad016eff333  h:3702b66484ed4d6d\n",
            "Round-27 : a:58144907c962f332  b:24ac4ef8cd271285  c:66b0043ac8b7879b  d:724cc88d9ab25dbf  e:4bcaa69f7aeb0ce8  f:8d96ae364028c7e4  g:b911c1ffafadba75  h:c63f4ad016eff333\n",
            "Round-28 : a:ad53ebb7fe36af37  b:58144907c962f332  c:24ac4ef8cd271285  d:66b0043ac8b7879b  e:4f071dfb5bcfceb4  f:4bcaa69f7aeb0ce8  g:8d96ae364028c7e4  h:b911c1ffafadba75\n",
            "Round-29 : a:e02fd22e9e1ba6a4  b:ad53ebb7fe36af37  c:58144907c962f332  d:24ac4ef8cd271285  e:a7b054c8487b94c3  f:4f071dfb5bcfceb4  g:4bcaa69f7aeb0ce8  h:8d96ae364028c7e4\n",
            "Round-30 : a:d48173863b728f62  b:e02fd22e9e1ba6a4  c:ad53ebb7fe36af37  d:58144907c962f332  e:f61542acb73070eb  f:a7b054c8487b94c3  g:4f071dfb5bcfceb4  h:4bcaa69f7aeb0ce8\n",
            "Round-31 : a:fb381ab0cb90ac62  b:d48173863b728f62  c:e02fd22e9e1ba6a4  d:ad53ebb7fe36af37  e:39c5bf269e228a09  f:f61542acb73070eb  g:a7b054c8487b94c3  h:4f071dfb5bcfceb4\n",
            "Round-32 : a:80e4e5814f85d4f5  b:fb381ab0cb90ac62  c:d48173863b728f62  d:e02fd22e9e1ba6a4  e:5395b222e9eff835  f:39c5bf269e228a09  g:f61542acb73070eb  h:a7b054c8487b94c3\n",
            "Round-33 : a:f086640316645808  b:80e4e5814f85d4f5  c:fb381ab0cb90ac62  d:d48173863b728f62  e:56f290e4e378c98b  f:5395b222e9eff835  g:39c5bf269e228a09  h:f61542acb73070eb\n",
            "Round-34 : a:12fda35f757b796d  b:f086640316645808  c:80e4e5814f85d4f5  d:fb381ab0cb90ac62  e:50ea54273bc25676  f:56f290e4e378c98b  g:5395b222e9eff835  h:39c5bf269e228a09\n",
            "Round-35 : a:3949fc54aaa9d901  b:12fda35f757b796d  c:f086640316645808  d:80e4e5814f85d4f5  e:6f9973896d948690  f:50ea54273bc25676  g:56f290e4e378c98b  h:5395b222e9eff835\n",
            "Round-36 : a:d24e825db9e986d0  b:3949fc54aaa9d901  c:12fda35f757b796d  d:f086640316645808  e:f902cda5fa46d915  f:6f9973896d948690  g:50ea54273bc25676  h:56f290e4e378c98b\n",
            "Round-37 : a:b56b295ce2955421  b:d24e825db9e986d0  c:3949fc54aaa9d901  d:12fda35f757b796d  e:48120b4d8d30baa0  f:f902cda5fa46d915  g:6f9973896d948690  h:50ea54273bc25676\n",
            "Round-38 : a:50f50fcba25f5b21  b:b56b295ce2955421  c:d24e825db9e986d0  d:3949fc54aaa9d901  e:0a71cd12f4ae76c2  f:48120b4d8d30baa0  g:f902cda5fa46d915  h:6f9973896d948690\n",
            "Round-39 : a:e9fc6458edbaa8d2  b:50f50fcba25f5b21  c:b56b295ce2955421  d:d24e825db9e986d0  e:f8b07ae4dbbad65b  f:0a71cd12f4ae76c2  g:48120b4d8d30baa0  h:f902cda5fa46d915\n",
            "Round-40 : a:5f7455cdd25e3504  b:e9fc6458edbaa8d2  c:50f50fcba25f5b21  d:b56b295ce2955421  e:eea65887293dbf63  f:f8b07ae4dbbad65b  g:0a71cd12f4ae76c2  h:48120b4d8d30baa0\n",
            "Round-41 : a:f3b5a3751932b35b  b:5f7455cdd25e3504  c:e9fc6458edbaa8d2  d:50f50fcba25f5b21  e:845c259931432d77  f:eea65887293dbf63  g:f8b07ae4dbbad65b  h:0a71cd12f4ae76c2\n",
            "Round-42 : a:4118abcaf9eef060  b:f3b5a3751932b35b  c:5f7455cdd25e3504  d:e9fc6458edbaa8d2  e:56c35a2952c36565  f:845c259931432d77  g:eea65887293dbf63  h:f8b07ae4dbbad65b\n",
            "Round-43 : a:b82fde38fd9268b7  b:4118abcaf9eef060  c:f3b5a3751932b35b  d:5f7455cdd25e3504  e:999036c7507fb93f  f:56c35a2952c36565  g:845c259931432d77  h:eea65887293dbf63\n",
            "Round-44 : a:2b3a957f608c25e8  b:b82fde38fd9268b7  c:4118abcaf9eef060  d:f3b5a3751932b35b  e:01b80a4d35b11ebc  f:999036c7507fb93f  g:56c35a2952c36565  h:845c259931432d77\n",
            "Round-45 : a:8e56077e4c6b523f  b:2b3a957f608c25e8  c:b82fde38fd9268b7  d:4118abcaf9eef060  e:2ab0bbc502de1d37  f:01b80a4d35b11ebc  g:999036c7507fb93f  h:56c35a2952c36565\n",
            "Round-46 : a:bb6d665ed78d246b  b:8e56077e4c6b523f  c:2b3a957f608c25e8  d:b82fde38fd9268b7  e:a91058d7eb0859d7  f:2ab0bbc502de1d37  g:01b80a4d35b11ebc  h:999036c7507fb93f\n",
            "Round-47 : a:e89e5e71b02fd8a4  b:bb6d665ed78d246b  c:8e56077e4c6b523f  d:2b3a957f608c25e8  e:84b21f42d9b9363a  f:a91058d7eb0859d7  g:2ab0bbc502de1d37  h:01b80a4d35b11ebc\n",
            "Round-48 : a:629eda4dba862cf9  b:e89e5e71b02fd8a4  c:bb6d665ed78d246b  d:8e56077e4c6b523f  e:55e505774ccfb677  f:84b21f42d9b9363a  g:a91058d7eb0859d7  h:2ab0bbc502de1d37\n",
            "Round-49 : a:ede10bfbf42e87f2  b:629eda4dba862cf9  c:e89e5e71b02fd8a4  d:bb6d665ed78d246b  e:33e26c2b0a7b7d4c  f:55e505774ccfb677  g:84b21f42d9b9363a  h:a91058d7eb0859d7\n",
            "Round-50 : a:7f33dfc14d2d6ddc  b:ede10bfbf42e87f2  c:629eda4dba862cf9  d:e89e5e71b02fd8a4  e:09f767c8f3d8c601  f:33e26c2b0a7b7d4c  g:55e505774ccfb677  h:84b21f42d9b9363a\n",
            "Round-51 : a:5dc279fabc37eab9  b:7f33dfc14d2d6ddc  c:ede10bfbf42e87f2  d:629eda4dba862cf9  e:d3a520371c2a290a  f:09f767c8f3d8c601  g:33e26c2b0a7b7d4c  h:55e505774ccfb677\n",
            "Round-52 : a:91cdbb2b250b7b36  b:5dc279fabc37eab9  c:7f33dfc14d2d6ddc  d:ede10bfbf42e87f2  e:dd7dfa8de9753311  f:d3a520371c2a290a  g:09f767c8f3d8c601  h:33e26c2b0a7b7d4c\n",
            "Round-53 : a:1c9b0d92a0c5b276  b:91cdbb2b250b7b36  c:5dc279fabc37eab9  d:7f33dfc14d2d6ddc  e:dcf8a2509239879e  f:dd7dfa8de9753311  g:d3a520371c2a290a  h:09f767c8f3d8c601\n",
            "Round-54 : a:69a36e5b904df21c  b:1c9b0d92a0c5b276  c:91cdbb2b250b7b36  d:5dc279fabc37eab9  e:49e053c996c4396d  f:dcf8a2509239879e  g:dd7dfa8de9753311  h:d3a520371c2a290a\n",
            "Round-55 : a:b9fb6a39e920bb2a  b:69a36e5b904df21c  c:1c9b0d92a0c5b276  d:91cdbb2b250b7b36  e:a645ee734c7d3aba  f:49e053c996c4396d  g:dcf8a2509239879e  h:dd7dfa8de9753311\n",
            "Round-56 : a:02a134b75e399d58  b:b9fb6a39e920bb2a  c:69a36e5b904df21c  d:1c9b0d92a0c5b276  e:bf21a4af7e43d68c  f:a645ee734c7d3aba  g:49e053c996c4396d  h:dcf8a2509239879e\n",
            "Round-57 : a:f1c7a4c2ba710ea9  b:02a134b75e399d58  c:b9fb6a39e920bb2a  d:69a36e5b904df21c  e:8a13822ce84ec1d6  f:bf21a4af7e43d68c  g:a645ee734c7d3aba  h:49e053c996c4396d\n",
            "Round-58 : a:296a04fba98ff12c  b:f1c7a4c2ba710ea9  c:02a134b75e399d58  d:b9fb6a39e920bb2a  e:5432037b0bc419ce  f:8a13822ce84ec1d6  g:bf21a4af7e43d68c  h:a645ee734c7d3aba\n",
            "Round-59 : a:cfdec1f5aa53ccff  b:296a04fba98ff12c  c:f1c7a4c2ba710ea9  d:02a134b75e399d58  e:e22715d01492d074  f:5432037b0bc419ce  g:8a13822ce84ec1d6  h:bf21a4af7e43d68c\n",
            "Round-60 : a:947151a4bdce9023  b:cfdec1f5aa53ccff  c:296a04fba98ff12c  d:f1c7a4c2ba710ea9  e:8847660d80304e2a  f:e22715d01492d074  g:5432037b0bc419ce  h:8a13822ce84ec1d6\n",
            "Round-61 : a:51dfb062212ba594  b:947151a4bdce9023  c:cfdec1f5aa53ccff  d:296a04fba98ff12c  e:fb4bd81d4cab378d  f:8847660d80304e2a  g:e22715d01492d074  h:5432037b0bc419ce\n",
            "Round-62 : a:3cdf5eedcd023e39  b:51dfb062212ba594  c:947151a4bdce9023  d:cfdec1f5aa53ccff  e:31b6aa99ac175554  f:fb4bd81d4cab378d  g:8847660d80304e2a  h:e22715d01492d074\n",
            "Round-63 : a:b4b78df1b2382d3e  b:3cdf5eedcd023e39  c:51dfb062212ba594  d:947151a4bdce9023  e:f6bd96a0bec5be32  f:31b6aa99ac175554  g:fb4bd81d4cab378d  h:8847660d80304e2a\n",
            "Round-64 : a:55b7cf57b385464b  b:b4b78df1b2382d3e  c:3cdf5eedcd023e39  d:51dfb062212ba594  e:08e0db1c34ed55b6  f:f6bd96a0bec5be32  g:31b6aa99ac175554  h:fb4bd81d4cab378d\n",
            "Round-65 : a:ea97cf7da42033a7  b:55b7cf57b385464b  c:b4b78df1b2382d3e  d:3cdf5eedcd023e39  e:8bed703ef99141d0  f:08e0db1c34ed55b6  g:f6bd96a0bec5be32  h:31b6aa99ac175554\n",
            "Round-66 : a:84003785c2456468  b:ea97cf7da42033a7  c:55b7cf57b385464b  d:b4b78df1b2382d3e  e:fbe4500dc11b4fd7  f:8bed703ef99141d0  g:08e0db1c34ed55b6  h:f6bd96a0bec5be32\n",
            "Round-67 : a:45aec7740bb97ea7  b:84003785c2456468  c:ea97cf7da42033a7  d:55b7cf57b385464b  e:d68af0b56be0cfa8  f:fbe4500dc11b4fd7  g:8bed703ef99141d0  h:08e0db1c34ed55b6\n",
            "Round-68 : a:e90b86def1d6c759  b:45aec7740bb97ea7  c:84003785c2456468  d:ea97cf7da42033a7  e:28cdc7a05e2dfbea  f:d68af0b56be0cfa8  g:fbe4500dc11b4fd7  h:8bed703ef99141d0\n",
            "Round-69 : a:7651931145d9884d  b:e90b86def1d6c759  c:45aec7740bb97ea7  d:84003785c2456468  e:7ee470f3ccfbba36  f:28cdc7a05e2dfbea  g:d68af0b56be0cfa8  h:fbe4500dc11b4fd7\n",
            "Round-70 : a:e95fa9b4aba2db5a  b:7651931145d9884d  c:e90b86def1d6c759  d:45aec7740bb97ea7  e:d9ef041189ac7a7f  f:7ee470f3ccfbba36  g:28cdc7a05e2dfbea  h:d68af0b56be0cfa8\n",
            "Round-71 : a:f7199946262b76d3  b:e95fa9b4aba2db5a  c:7651931145d9884d  d:e90b86def1d6c759  e:59da9656b5925bad  f:d9ef041189ac7a7f  g:7ee470f3ccfbba36  h:28cdc7a05e2dfbea\n",
            "Round-72 : a:e1066cc25462cde9  b:f7199946262b76d3  c:e95fa9b4aba2db5a  d:7651931145d9884d  e:6b467426f2dbf9e6  f:59da9656b5925bad  g:d9ef041189ac7a7f  h:7ee470f3ccfbba36\n",
            "Round-73 : a:8401ed6b56449fe7  b:e1066cc25462cde9  c:f7199946262b76d3  d:e95fa9b4aba2db5a  e:c1972e36ba15ec8d  f:6b467426f2dbf9e6  g:59da9656b5925bad  h:d9ef041189ac7a7f\n",
            "Round-74 : a:597362a31886163d  b:8401ed6b56449fe7  c:e1066cc25462cde9  d:f7199946262b76d3  e:f65cce56ffaf637f  f:c1972e36ba15ec8d  g:6b467426f2dbf9e6  h:59da9656b5925bad\n",
            "Round-75 : a:4a974bc57c26c434  b:597362a31886163d  c:8401ed6b56449fe7  d:e1066cc25462cde9  e:783b8db1923386be  f:f65cce56ffaf637f  g:c1972e36ba15ec8d  h:6b467426f2dbf9e6\n",
            "Round-76 : a:e0e67335efa5a3e8  b:4a974bc57c26c434  c:597362a31886163d  d:8401ed6b56449fe7  e:623bb45314bd9b6b  f:783b8db1923386be  g:f65cce56ffaf637f  h:c1972e36ba15ec8d\n",
            "Round-77 : a:b2e6c86fdf2e5ebc  b:e0e67335efa5a3e8  c:4a974bc57c26c434  d:597362a31886163d  e:03853501d12d14f2  f:623bb45314bd9b6b  g:783b8db1923386be  h:f65cce56ffaf637f\n",
            "Round-78 : a:98539be2ea4568df  b:b2e6c86fdf2e5ebc  c:e0e67335efa5a3e8  d:4a974bc57c26c434  e:3450924687f3beea  f:03853501d12d14f2  g:623bb45314bd9b6b  h:783b8db1923386be\n",
            "Round-79 : a:8688d040c3a1081f  b:98539be2ea4568df  c:b2e6c86fdf2e5ebc  d:e0e67335efa5a3e8  e:4525e37e74846176  f:3450924687f3beea  g:03853501d12d14f2  h:623bb45314bd9b6b\n",
            "Round-80 : a:7bd79162e7d3fdd3  b:8688d040c3a1081f  c:98539be2ea4568df  d:b2e6c86fdf2e5ebc  e:3e7baa4656323760  f:4525e37e74846176  g:3450924687f3beea  h:03853501d12d14f2\n",
            "Round-00 : a:e5e177cadb90c6db  b:41f07ec6486baf5a  c:d4c28f55e8da610a  d:5836bdaa3e4b95ad  e:8f89fcc60418ba31  f:e02b4c0a9fc2cd95  g:53d46bf283357c55  h:5f66021ae4ab366b\n",
            "Round-01 : a:db39322e14ca34e9  b:e5e177cadb90c6db  c:41f07ec6486baf5a  d:d4c28f55e8da610a  e:d32ff28c7995ff8c  f:8f89fcc60418ba31  g:e02b4c0a9fc2cd95  h:53d46bf283357c55\n",
            "Round-02 : a:ea0f9194f18c314a  b:db39322e14ca34e9  c:e5e177cadb90c6db  d:41f07ec6486baf5a  e:6728524e6ab0cf6b  f:d32ff28c7995ff8c  g:8f89fcc60418ba31  h:e02b4c0a9fc2cd95\n",
            "Round-03 : a:e6a6fb04a45d2658  b:ea0f9194f18c314a  c:db39322e14ca34e9  d:e5e177cadb90c6db  e:302b459d8b91bede  f:6728524e6ab0cf6b  g:d32ff28c7995ff8c  h:8f89fcc60418ba31\n",
            "Round-04 : a:6997faada27a995f  b:e6a6fb04a45d2658  c:ea0f9194f18c314a  d:db39322e14ca34e9  e:ffbc291ee733e875  f:302b459d8b91bede  g:6728524e6ab0cf6b  h:d32ff28c7995ff8c\n",
            "Round-05 : a:72c746ab8ebd6e7a  b:6997faada27a995f  c:e6a6fb04a45d2658  d:ea0f9194f18c314a  e:4f04b6c10561f685  f:ffbc291ee733e875  g:302b459d8b91bede  h:6728524e6ab0cf6b\n",
            "Round-06 : a:2ccec97bb17d25c2  b:72c746ab8ebd6e7a  c:6997faada27a995f  d:e6a6fb04a45d2658  e:54f1997db86bf313  f:4f04b6c10561f685  g:ffbc291ee733e875  h:302b459d8b91bede\n",
            "Round-07 : a:18e847b1d587498b  b:2ccec97bb17d25c2  c:72c746ab8ebd6e7a  d:6997faada27a995f  e:89d788f113e08a12  f:54f1997db86bf313  g:4f04b6c10561f685  h:ffbc291ee733e875\n",
            "Round-08 : a:4de1ab32f670cb8d  b:18e847b1d587498b  c:2ccec97bb17d25c2  d:72c746ab8ebd6e7a  e:2fed19e4a49e3ca4  f:89d788f113e08a12  g:54f1997db86bf313  h:4f04b6c10561f685\n",
            "Round-09 : a:40957fdc2514d94f  b:4de1ab32f670cb8d  c:18e847b1d587498b  d:2ccec97bb17d25c2  e:e6f78fb32663e389  f:2fed19e4a49e3ca4  g:89d788f113e08a12  h:54f1997db86bf313\n",
            "Round-10 : a:d3382f1aed9c6cef  b:40957fdc2514d94f  c:4de1ab32f670cb8d  d:18e847b1d587498b  e:d6e2fdd062114058  f:e6f78fb32663e389  g:2fed19e4a49e3ca4  h:89d788f113e08a12\n",
            "Round-11 : a:52cc8293cf165171  b:d3382f1aed9c6cef  c:40957fdc2514d94f  d:4de1ab32f670cb8d  e:d288ae0ba69e46f7  f:d6e2fdd062114058  g:e6f78fb32663e389  h:2fed19e4a49e3ca4\n",
            "Round-12 : a:e6e079e66fab57d5  b:52cc8293cf165171  c:d3382f1aed9c6cef  d:40957fdc2514d94f  e:bce74592de293956  f:d288ae0ba69e46f7  g:d6e2fdd062114058  h:e6f78fb32663e389\n",
            "Round-13 : a:72637d9e3adc6426  b:e6e079e66fab57d5  c:52cc8293cf165171  d:d3382f1aed9c6cef  e:328fd3e2b3e0a694  f:bce74592de293956  g:d288ae0ba69e46f7  h:d6e2fdd062114058\n",
            "Round-14 : a:7f3e14c9ee1ed46a  b:72637d9e3adc6426  c:e6e079e66fab57d5  d:52cc8293cf165171  e:c090e6a775d12b65  f:328fd3e2b3e0a694  g:bce74592de293956  h:d288ae0ba69e46f7\n",
            "Round-15 : a:43bcc29f23f43ad2  b:7f3e14c9ee1ed46a  c:72637d9e3adc6426  d:e6e079e66fab57d5  e:166ff94ecb9b8258  f:c090e6a775d12b65  g:328fd3e2b3e0a694  h:bce74592de293956\n",
            "Round-16 : a:8e32ae7af4ca6ab7  b:43bcc29f23f43ad2  c:7f3e14c9ee1ed46a  d:72637d9e3adc6426  e:37db87dd29f4ed5a  f:166ff94ecb9b8258  g:c090e6a775d12b65  h:328fd3e2b3e0a694\n",
            "Round-17 : a:b22eabb38b6beede  b:8e32ae7af4ca6ab7  c:43bcc29f23f43ad2  d:7f3e14c9ee1ed46a  e:d0d5fd756fafaea5  f:37db87dd29f4ed5a  g:166ff94ecb9b8258  h:c090e6a775d12b65\n",
            "Round-18 : a:d75c5157dd561c78  b:b22eabb38b6beede  c:8e32ae7af4ca6ab7  d:43bcc29f23f43ad2  e:a0e8f9e4f4853989  f:d0d5fd756fafaea5  g:37db87dd29f4ed5a  h:166ff94ecb9b8258\n",
            "Round-19 : a:4cebd17a12c28ec3  b:d75c5157dd561c78  c:b22eabb38b6beede  d:8e32ae7af4ca6ab7  e:6cdafbf9a7afa10d  f:a0e8f9e4f4853989  g:d0d5fd756fafaea5  h:37db87dd29f4ed5a\n",
            "Round-20 : a:d7d92e2c1ed3795e  b:4cebd17a12c28ec3  c:d75c5157dd561c78  d:b22eabb38b6beede  e:32df4099dd3d20de  f:6cdafbf9a7afa10d  g:a0e8f9e4f4853989  h:d0d5fd756fafaea5\n",
            "Round-21 : a:a01e85c5da855530  b:d7d92e2c1ed3795e  c:4cebd17a12c28ec3  d:d75c5157dd561c78  e:c7b4f2b2d1540c9e  f:32df4099dd3d20de  g:6cdafbf9a7afa10d  h:a0e8f9e4f4853989\n",
            "Round-22 : a:c82c37aa8bbf97d9  b:a01e85c5da855530  c:d7d92e2c1ed3795e  d:4cebd17a12c28ec3  e:856bf6aa05a296d8  f:c7b4f2b2d1540c9e  g:32df4099dd3d20de  h:6cdafbf9a7afa10d\n",
            "Round-23 : a:5c98a1085685ab24  b:c82c37aa8bbf97d9  c:a01e85c5da855530  d:d7d92e2c1ed3795e  e:9d6663908b58b562  f:856bf6aa05a296d8  g:c7b4f2b2d1540c9e  h:32df4099dd3d20de\n",
            "Round-24 : a:8b474d8f0aebc4cd  b:5c98a1085685ab24  c:c82c37aa8bbf97d9  d:a01e85c5da855530  e:2dad0257b9249d76  f:9d6663908b58b562  g:856bf6aa05a296d8  h:c7b4f2b2d1540c9e\n",
            "Round-25 : a:3916395b1525f889  b:8b474d8f0aebc4cd  c:5c98a1085685ab24  d:c82c37aa8bbf97d9  e:9f152f34974840e4  f:2dad0257b9249d76  g:9d6663908b58b562  h:856bf6aa05a296d8\n",
            "Round-26 : a:799af5bdc40d3b3f  b:3916395b1525f889  c:8b474d8f0aebc4cd  d:5c98a1085685ab24  e:0774471c6bd2b2f6  f:9f152f34974840e4  g:2dad0257b9249d76  h:9d6663908b58b562\n",
            "Round-27 : a:d79f9374319aa199  b:799af5bdc40d3b3f  c:3916395b1525f889  d:8b474d8f0aebc4cd  e:b0c8cf8f4ab780d8  f:0774471c6bd2b2f6  g:9f152f34974840e4  h:2dad0257b9249d76\n",
            "Round-28 : a:43f0fdc801a319e0  b:d79f9374319aa199  c:799af5bdc40d3b3f  d:3916395b1525f889  e:57ea1521b7cf385c  f:b0c8cf8f4ab780d8  g:0774471c6bd2b2f6  h:9f152f34974840e4\n",
            "Round-29 : a:6b6a9faf291fe603  b:43f0fdc801a319e0  c:d79f9374319aa199  d:799af5bdc40d3b3f  e:c68bc4be4d46a2ca  f:57ea1521b7cf385c  g:b0c8cf8f4ab780d8  h:0774471c6bd2b2f6\n",
            "Round-30 : a:88a7eff52e9fb7e9  b:6b6a9faf291fe603  c:43f0fdc801a319e0  d:d79f9374319aa199  e:b85c9f4c666bc981  f:c68bc4be4d46a2ca  g:57ea1521b7cf385c  h:b0c8cf8f4ab780d8\n",
            "Round-31 : a:4611f8c8e9c71057  b:88a7eff52e9fb7e9  c:6b6a9faf291fe603  d:43f0fdc801a319e0  e:89cce042b67bae9f  f:b85c9f4c666bc981  g:c68bc4be4d46a2ca  h:57ea1521b7cf385c\n",
            "Round-32 : a:c6f54d5037ff3e7d  b:4611f8c8e9c71057  c:88a7eff52e9fb7e9  d:6b6a9faf291fe603  e:88eefbe9f1ead0cd  f:89cce042b67bae9f  g:b85c9f4c666bc981  h:c68bc4be4d46a2ca\n",
            "Round-33 : a:c543cd9687c0f418  b:c6f54d5037ff3e7d  c:4611f8c8e9c71057  d:88a7eff52e9fb7e9  e:9794a9359b9d36d1  f:88eefbe9f1ead0cd  g:89cce042b67bae9f  h:b85c9f4c666bc981\n",
            "Round-34 : a:55dadaf96a83cbeb  b:c543cd9687c0f418  c:c6f54d5037ff3e7d  d:4611f8c8e9c71057  e:273fffbb9c75a1e1  f:9794a9359b9d36d1  g:88eefbe9f1ead0cd  h:89cce042b67bae9f\n",
            "Round-35 : a:1e8755689f5c02b6  b:55dadaf96a83cbeb  c:c543cd9687c0f418  d:c6f54d5037ff3e7d  e:9e7c348902ee67f7  f:273fffbb9c75a1e1  g:9794a9359b9d36d1  h:88eefbe9f1ead0cd\n",
            "Round-36 : a:cd33ae8e99fdbd18  b:1e8755689f5c02b6  c:55dadaf96a83cbeb  d:c543cd9687c0f418  e:3b3b8a1d3e52ab62  f:9e7c348902ee67f7  g:273fffbb9c75a1e1  h:9794a9359b9d36d1\n",
            "Round-37 : a:0b11c4a213b9aa4a  b:cd33ae8e99fdbd18  c:1e8755689f5c02b6  d:55dadaf96a83cbeb  e:4e2a6d9f2db0ae91  f:3b3b8a1d3e52ab62  g:9e7c348902ee67f7  h:273fffbb9c75a1e1\n",
            "Round-38 : a:0cf7ca0334baf91e  b:0b11c4a213b9aa4a  c:cd33ae8e99fdbd18  d:1e8755689f5c02b6  e:586b22eb5b73026f  f:4e2a6d9f2db0ae91  g:3b3b8a1d3e52ab62  h:9e7c348902ee67f7\n",
            "Round-39 : a:aa6181b0e0ab9518  b:0cf7ca0334baf91e  c:0b11c4a213b9aa4a  d:cd33ae8e99fdbd18  e:3accae41fdf5218d  f:586b22eb5b73026f  g:4e2a6d9f2db0ae91  h:3b3b8a1d3e52ab62\n",
            "Round-40 : a:2520d4eff4333fd4  b:aa6181b0e0ab9518  c:0cf7ca0334baf91e  d:0b11c4a213b9aa4a  e:948fdef59fa08b71  f:3accae41fdf5218d  g:586b22eb5b73026f  h:4e2a6d9f2db0ae91\n",
            "Round-41 : a:9897199f3338a984  b:2520d4eff4333fd4  c:aa6181b0e0ab9518  d:0cf7ca0334baf91e  e:156fc8d45f275c45  f:948fdef59fa08b71  g:3accae41fdf5218d  h:586b22eb5b73026f\n",
            "Round-42 : a:eca696aa1d3594f2  b:9897199f3338a984  c:2520d4eff4333fd4  d:aa6181b0e0ab9518  e:905a0b71bb4f5ed5  f:156fc8d45f275c45  g:948fdef59fa08b71  h:3accae41fdf5218d\n",
            "Round-43 : a:a897dd96b17b7ab7  b:eca696aa1d3594f2  c:9897199f3338a984  d:2520d4eff4333fd4  e:a624895cc85bcfd5  f:905a0b71bb4f5ed5  g:156fc8d45f275c45  h:948fdef59fa08b71\n",
            "Round-44 : a:5bb6e1dd0bfaa334  b:a897dd96b17b7ab7  c:eca696aa1d3594f2  d:9897199f3338a984  e:41b4960cc2eb289d  f:a624895cc85bcfd5  g:905a0b71bb4f5ed5  h:156fc8d45f275c45\n",
            "Round-45 : a:3b4ee22e36513e88  b:5bb6e1dd0bfaa334  c:a897dd96b17b7ab7  d:eca696aa1d3594f2  e:a3ebb7608ad96cf2  f:41b4960cc2eb289d  g:a624895cc85bcfd5  h:905a0b71bb4f5ed5\n",
            "Round-46 : a:612b0d7ec1e0806b  b:3b4ee22e36513e88  c:5bb6e1dd0bfaa334  d:a897dd96b17b7ab7  e:5d4fbd2e014fd2fd  f:a3ebb7608ad96cf2  g:41b4960cc2eb289d  h:a624895cc85bcfd5\n",
            "Round-47 : a:47018580c7a3913a  b:612b0d7ec1e0806b  c:3b4ee22e36513e88  d:5bb6e1dd0bfaa334  e:207699ed58f62720  f:5d4fbd2e014fd2fd  g:a3ebb7608ad96cf2  h:41b4960cc2eb289d\n",
            "Round-48 : a:4399d8e6b5cec168  b:47018580c7a3913a  c:612b0d7ec1e0806b  d:3b4ee22e36513e88  e:f1e684cc64919a0b  f:207699ed58f62720  g:5d4fbd2e014fd2fd  h:a3ebb7608ad96cf2\n",
            "Round-49 : a:76b36ae37bb481f3  b:4399d8e6b5cec168  c:47018580c7a3913a  d:612b0d7ec1e0806b  e:320483cdf226732e  f:f1e684cc64919a0b  g:207699ed58f62720  h:5d4fbd2e014fd2fd\n",
            "Round-50 : a:c98170d7428c58fb  b:76b36ae37bb481f3  c:4399d8e6b5cec168  d:47018580c7a3913a  e:3fc85f2abc4f4592  f:320483cdf226732e  g:f1e684cc64919a0b  h:207699ed58f62720\n",
            "Round-51 : a:3e084e70f89b8ecc  b:c98170d7428c58fb  c:76b36ae37bb481f3  d:4399d8e6b5cec168  e:ea94d9d6aece0a6b  f:3fc85f2abc4f4592  g:320483cdf226732e  h:f1e684cc64919a0b\n",
            "Round-52 : a:f6a257d45b8a2eaf  b:3e084e70f89b8ecc  c:c98170d7428c58fb  d:76b36ae37bb481f3  e:654b8d5a1f41830d  f:ea94d9d6aece0a6b  g:3fc85f2abc4f4592  h:320483cdf226732e\n",
            "Round-53 : a:689b0bd3e1eb0e5b  b:f6a257d45b8a2eaf  c:3e084e70f89b8ecc  d:c98170d7428c58fb  e:d9d6aad93ab4d540  f:654b8d5a1f41830d  g:ea94d9d6aece0a6b  h:3fc85f2abc4f4592\n",
            "Round-54 : a:92d785a13a452cf1  b:689b0bd3e1eb0e5b  c:f6a257d45b8a2eaf  d:3e084e70f89b8ecc  e:9cc4b66a9dff2d40  f:d9d6aad93ab4d540  g:654b8d5a1f41830d  h:ea94d9d6aece0a6b\n",
            "Round-55 : a:b17291bc98ba7e99  b:92d785a13a452cf1  c:689b0bd3e1eb0e5b  d:f6a257d45b8a2eaf  e:5430c9df6aa2c9fa  f:9cc4b66a9dff2d40  g:d9d6aad93ab4d540  h:654b8d5a1f41830d\n",
            "Round-56 : a:98116ea818118732  b:b17291bc98ba7e99  c:92d785a13a452cf1  d:689b0bd3e1eb0e5b  e:0928420a72992c83  f:5430c9df6aa2c9fa  g:9cc4b66a9dff2d40  h:d9d6aad93ab4d540\n",
            "Round-57 : a:185d74e74507930c  b:98116ea818118732  c:b17291bc98ba7e99  d:92d785a13a452cf1  e:1978c927ccbedec0  f:0928420a72992c83  g:5430c9df6aa2c9fa  h:9cc4b66a9dff2d40\n",
            "Round-58 : a:cc2da9c94e3109cb  b:185d74e74507930c  c:98116ea818118732  d:b17291bc98ba7e99  e:7700df99d471f600  f:1978c927ccbedec0  g:0928420a72992c83  h:5430c9df6aa2c9fa\n",
            "Round-59 : a:846b216b01a6666b  b:cc2da9c94e3109cb  c:185d74e74507930c  d:98116ea818118732  e:7bbf8960a805b445  f:7700df99d471f600  g:1978c927ccbedec0  h:0928420a72992c83\n",
            "Round-60 : a:f26e0c5e33353247  b:846b216b01a6666b  c:cc2da9c94e3109cb  d:185d74e74507930c  e:f205a52c957fad86  f:7bbf8960a805b445  g:7700df99d471f600  h:1978c927ccbedec0\n",
            "Round-61 : a:0056781a8c14f5d5  b:f26e0c5e33353247  c:846b216b01a6666b  d:cc2da9c94e3109cb  e:504cc12c7847cbaa  f:f205a52c957fad86  g:7bbf8960a805b445  h:7700df99d471f600\n",
            "Round-62 : a:101169d7ddd9e9a1  b:0056781a8c14f5d5  c:f26e0c5e33353247  d:846b216b01a6666b  e:047ea1783b63c9c7  f:504cc12c7847cbaa  g:f205a52c957fad86  h:7bbf8960a805b445\n",
            "Round-63 : a:bc4183ca5d7a20a0  b:101169d7ddd9e9a1  c:0056781a8c14f5d5  d:f26e0c5e33353247  e:ab02e92cbad7af6b  f:047ea1783b63c9c7  g:504cc12c7847cbaa  h:f205a52c957fad86\n",
            "Round-64 : a:c0c7f57e0018ce34  b:bc4183ca5d7a20a0  c:101169d7ddd9e9a1  d:0056781a8c14f5d5  e:ce9e219eab843f8a  f:ab02e92cbad7af6b  g:047ea1783b63c9c7  h:504cc12c7847cbaa\n",
            "Round-65 : a:832ba49b7e154bd5  b:c0c7f57e0018ce34  c:bc4183ca5d7a20a0  d:101169d7ddd9e9a1  e:75b5597a570233b5  f:ce9e219eab843f8a  g:ab02e92cbad7af6b  h:047ea1783b63c9c7\n",
            "Round-66 : a:841bdac410118e17  b:832ba49b7e154bd5  c:c0c7f57e0018ce34  d:bc4183ca5d7a20a0  e:0bbbd986985c352c  f:75b5597a570233b5  g:ce9e219eab843f8a  h:ab02e92cbad7af6b\n",
            "Round-67 : a:bb926b676cfcfc0b  b:841bdac410118e17  c:832ba49b7e154bd5  d:c0c7f57e0018ce34  e:6a8b58722ab1e151  f:0bbbd986985c352c  g:75b5597a570233b5  h:ce9e219eab843f8a\n",
            "Round-68 : a:80fb150e378c6c30  b:bb926b676cfcfc0b  c:841bdac410118e17  d:832ba49b7e154bd5  e:e47e19837ada63d4  f:6a8b58722ab1e151  g:0bbbd986985c352c  h:75b5597a570233b5\n",
            "Round-69 : a:da97aff21e1465cf  b:80fb150e378c6c30  c:bb926b676cfcfc0b  d:841bdac410118e17  e:f3dd386b18fe6207  f:e47e19837ada63d4  g:6a8b58722ab1e151  h:0bbbd986985c352c\n",
            "Round-70 : a:1729c364139aae18  b:da97aff21e1465cf  c:80fb150e378c6c30  d:bb926b676cfcfc0b  e:7db3017c24a594a2  f:f3dd386b18fe6207  g:e47e19837ada63d4  h:6a8b58722ab1e151\n",
            "Round-71 : a:195b52bb4b5338df  b:1729c364139aae18  c:da97aff21e1465cf  d:80fb150e378c6c30  e:4cc6b761593bb3b4  f:7db3017c24a594a2  g:f3dd386b18fe6207  h:e47e19837ada63d4\n",
            "Round-72 : a:9da570720df1eabe  b:195b52bb4b5338df  c:1729c364139aae18  d:da97aff21e1465cf  e:f212dbd63c9ae050  f:4cc6b761593bb3b4  g:7db3017c24a594a2  h:f3dd386b18fe6207\n",
            "Round-73 : a:18d56badadbdebcb  b:9da570720df1eabe  c:195b52bb4b5338df  d:1729c364139aae18  e:1dca969abff99520  f:f212dbd63c9ae050  g:4cc6b761593bb3b4  h:7db3017c24a594a2\n",
            "Round-74 : a:bc58ea7db2558212  b:18d56badadbdebcb  c:9da570720df1eabe  d:195b52bb4b5338df  e:cdc27d91daabfa65  f:1dca969abff99520  g:f212dbd63c9ae050  h:4cc6b761593bb3b4\n",
            "Round-75 : a:84c9410d0220a5f8  b:bc58ea7db2558212  c:18d56badadbdebcb  d:9da570720df1eabe  e:4ea53e9f4f9dc7ad  f:cdc27d91daabfa65  g:1dca969abff99520  h:f212dbd63c9ae050\n",
            "Round-76 : a:86ae977e3e62707c  b:84c9410d0220a5f8  c:bc58ea7db2558212  d:18d56badadbdebcb  e:0ef465050d6ee54f  f:4ea53e9f4f9dc7ad  g:cdc27d91daabfa65  h:1dca969abff99520\n",
            "Round-77 : a:ed6c27f3aa727f9a  b:86ae977e3e62707c  c:84c9410d0220a5f8  d:bc58ea7db2558212  e:ebb570ec73803bdb  f:0ef465050d6ee54f  g:4ea53e9f4f9dc7ad  h:cdc27d91daabfa65\n",
            "Round-78 : a:6a12dc2df0ef23b1  b:ed6c27f3aa727f9a  c:86ae977e3e62707c  d:84c9410d0220a5f8  e:f6903c75209e8142  f:ebb570ec73803bdb  g:0ef465050d6ee54f  h:4ea53e9f4f9dc7ad\n",
            "Round-79 : a:155a001bd0559f03  b:6a12dc2df0ef23b1  c:ed6c27f3aa727f9a  d:86ae977e3e62707c  e:82cc7beb7e9680d7  f:f6903c75209e8142  g:ebb570ec73803bdb  h:0ef465050d6ee54f\n",
            "Round-80 : a:66c6fc1e94b554f1  b:155a001bd0559f03  c:6a12dc2df0ef23b1  d:ed6c27f3aa727f9a  e:b92f52914bc4501f  f:82cc7beb7e9680d7  g:f6903c75209e8142  h:ebb570ec73803bdb\n",
            "Round-00 : a:4ca873e970461bcc  b:574a7ee218c14e5d  c:3ed56b83d9c984bb  d:45a2e59de8be1547  e:48b94f574fdd0a50  f:62f7c7f61e594e6c  g:4a64a867a3d3fd97  h:4b1b7307582b7246\n",
            "Round-01 : a:dccafdab21b5b41d  b:4ca873e970461bcc  c:574a7ee218c14e5d  d:3ed56b83d9c984bb  e:3914b165707e47fd  f:48b94f574fdd0a50  g:62f7c7f61e594e6c  h:4a64a867a3d3fd97\n",
            "Round-02 : a:88e4f50540bdf754  b:dccafdab21b5b41d  c:4ca873e970461bcc  d:574a7ee218c14e5d  e:e57a98eb699d6d8f  f:3914b165707e47fd  g:48b94f574fdd0a50  h:62f7c7f61e594e6c\n",
            "Round-03 : a:5cf108bd3ce85294  b:88e4f50540bdf754  c:dccafdab21b5b41d  d:4ca873e970461bcc  e:95e11e82ef8c4496  f:e57a98eb699d6d8f  g:3914b165707e47fd  h:48b94f574fdd0a50\n",
            "Round-04 : a:5cf7681836fda7bc  b:5cf108bd3ce85294  c:88e4f50540bdf754  d:dccafdab21b5b41d  e:d0f7f10e95f0a187  f:95e11e82ef8c4496  g:e57a98eb699d6d8f  h:3914b165707e47fd\n",
            "Round-05 : a:63e9913e8539e354  b:5cf7681836fda7bc  c:5cf108bd3ce85294  d:88e4f50540bdf754  e:91b63d66d0feea88  f:d0f7f10e95f0a187  g:95e11e82ef8c4496  h:e57a98eb699d6d8f\n",
            "Round-06 : a:c879a51961bc9731  b:63e9913e8539e354  c:5cf7681836fda7bc  d:5cf108bd3ce85294  e:6493538cdedc066c  f:91b63d66d0feea88  g:d0f7f10e95f0a187  h:95e11e82ef8c4496\n",
            "Round-07 : a:51bc08afd956aff8  b:c879a51961bc9731  c:63e9913e8539e354  d:5cf7681836fda7bc  e:f44e40565a6c8fbe  f:6493538cdedc066c  g:91b63d66d0feea88  h:d0f7f10e95f0a187\n",
            "Round-08 : a:9687a1db59bcf90b  b:51bc08afd956aff8  c:c879a51961bc9731  d:63e9913e8539e354  e:74f78f8ed0710890  f:f44e40565a6c8fbe  g:6493538cdedc066c  h:91b63d66d0feea88\n",
            "Round-09 : a:50e3a7125d84439e  b:9687a1db59bcf90b  c:51bc08afd956aff8  d:c879a51961bc9731  e:e8fbbfabee0a6d39  f:74f78f8ed0710890  g:f44e40565a6c8fbe  h:6493538cdedc066c\n",
            "Round-10 : a:a2b31e74829a8a7d  b:50e3a7125d84439e  c:9687a1db59bcf90b  d:51bc08afd956aff8  e:aee7006ce41ed665  f:e8fbbfabee0a6d39  g:74f78f8ed0710890  h:f44e40565a6c8fbe\n",
            "Round-11 : a:5ea00cb2a3b17bff  b:a2b31e74829a8a7d  c:50e3a7125d84439e  d:9687a1db59bcf90b  e:3dad3dbe6a9319ef  f:aee7006ce41ed665  g:e8fbbfabee0a6d39  h:74f78f8ed0710890\n",
            "Round-12 : a:7f4d92041f39ec7b  b:5ea00cb2a3b17bff  c:a2b31e74829a8a7d  d:50e3a7125d84439e  e:cc75a1af32511168  f:3dad3dbe6a9319ef  g:aee7006ce41ed665  h:e8fbbfabee0a6d39\n",
            "Round-13 : a:dbd156f98305d778  b:7f4d92041f39ec7b  c:5ea00cb2a3b17bff  d:a2b31e74829a8a7d  e:b1a510657edb50b3  f:cc75a1af32511168  g:3dad3dbe6a9319ef  h:aee7006ce41ed665\n",
            "Round-14 : a:63ab482dab6394db  b:dbd156f98305d778  c:7f4d92041f39ec7b  d:5ea00cb2a3b17bff  e:030345f430758752  f:b1a510657edb50b3  g:cc75a1af32511168  h:3dad3dbe6a9319ef\n",
            "Round-15 : a:31045cba12126383  b:63ab482dab6394db  c:dbd156f98305d778  d:7f4d92041f39ec7b  e:8c23a795d60904c6  f:030345f430758752  g:b1a510657edb50b3  h:cc75a1af32511168\n",
            "Round-16 : a:9d6120eaacec7e55  b:31045cba12126383  c:63ab482dab6394db  d:dbd156f98305d778  e:d7a6d2206ebbbebf  f:8c23a795d60904c6  g:030345f430758752  h:b1a510657edb50b3\n",
            "Round-17 : a:b70a5dfa54c9858f  b:9d6120eaacec7e55  c:31045cba12126383  d:63ab482dab6394db  e:b1154a1912fc6163  f:d7a6d2206ebbbebf  g:8c23a795d60904c6  h:030345f430758752\n",
            "Round-18 : a:39ee4aa808026149  b:b70a5dfa54c9858f  c:9d6120eaacec7e55  d:31045cba12126383  e:bb958b481c94323d  f:b1154a1912fc6163  g:d7a6d2206ebbbebf  h:8c23a795d60904c6\n",
            "Round-19 : a:9ed4ac8908f39d6f  b:39ee4aa808026149  c:b70a5dfa54c9858f  d:9d6120eaacec7e55  e:40383855cb50b6e6  f:bb958b481c94323d  g:b1154a1912fc6163  h:d7a6d2206ebbbebf\n",
            "Round-20 : a:9b63657a06ebdb84  b:9ed4ac8908f39d6f  c:39ee4aa808026149  d:b70a5dfa54c9858f  e:99e16323d552899f  f:40383855cb50b6e6  g:bb958b481c94323d  h:b1154a1912fc6163\n",
            "Round-21 : a:2fad1a607cd1fefd  b:9b63657a06ebdb84  c:9ed4ac8908f39d6f  d:39ee4aa808026149  e:2fc672932edf630b  f:99e16323d552899f  g:40383855cb50b6e6  h:bb958b481c94323d\n",
            "Round-22 : a:cd0dd4f712143cff  b:2fad1a607cd1fefd  c:9b63657a06ebdb84  d:9ed4ac8908f39d6f  e:5444bfa6c1bd03b0  f:2fc672932edf630b  g:99e16323d552899f  h:40383855cb50b6e6\n",
            "Round-23 : a:270dffcf65913782  b:cd0dd4f712143cff  c:2fad1a607cd1fefd  d:9b63657a06ebdb84  e:2ad26f2b7baeb40f  f:5444bfa6c1bd03b0  g:2fc672932edf630b  h:99e16323d552899f\n",
            "Round-24 : a:ca40f9160602b149  b:270dffcf65913782  c:cd0dd4f712143cff  d:2fad1a607cd1fefd  e:17da67fa9b0ab4d4  f:2ad26f2b7baeb40f  g:5444bfa6c1bd03b0  h:2fc672932edf630b\n",
            "Round-25 : a:75e03abf757984e2  b:ca40f9160602b149  c:270dffcf65913782  d:cd0dd4f712143cff  e:08d7999ca7301f3d  f:17da67fa9b0ab4d4  g:2ad26f2b7baeb40f  h:5444bfa6c1bd03b0\n",
            "Round-26 : a:d26bcad28af9bb6e  b:75e03abf757984e2  c:ca40f9160602b149  d:270dffcf65913782  e:440bc814306bdd7e  f:08d7999ca7301f3d  g:17da67fa9b0ab4d4  h:2ad26f2b7baeb40f\n",
            "Round-27 : a:acbe89e22b7c6d4c  b:d26bcad28af9bb6e  c:75e03abf757984e2  d:ca40f9160602b149  e:593b63db3b116b5b  f:440bc814306bdd7e  g:08d7999ca7301f3d  h:17da67fa9b0ab4d4\n",
            "Round-28 : a:2c0de460b978d3f6  b:acbe89e22b7c6d4c  c:d26bcad28af9bb6e  d:75e03abf757984e2  e:08151b411a639688  f:593b63db3b116b5b  g:440bc814306bdd7e  h:08d7999ca7301f3d\n",
            "Round-29 : a:2c5e9f5a31b631b9  b:2c0de460b978d3f6  c:acbe89e22b7c6d4c  d:d26bcad28af9bb6e  e:7d6d16fe54319652  f:08151b411a639688  g:593b63db3b116b5b  h:440bc814306bdd7e\n",
            "Round-30 : a:3715636c097457a1  b:2c5e9f5a31b631b9  c:2c0de460b978d3f6  d:acbe89e22b7c6d4c  e:b9f4a53c5e4ab1c8  f:7d6d16fe54319652  g:08151b411a639688  h:593b63db3b116b5b\n",
            "Round-31 : a:be33ae988cee8cc6  b:3715636c097457a1  c:2c5e9f5a31b631b9  d:2c0de460b978d3f6  e:f1c9c9bdfff96184  f:b9f4a53c5e4ab1c8  g:7d6d16fe54319652  h:08151b411a639688\n",
            "Round-32 : a:e0fafe5264f7f19f  b:be33ae988cee8cc6  c:3715636c097457a1  d:2c5e9f5a31b631b9  e:f226811752b04a81  f:f1c9c9bdfff96184  g:b9f4a53c5e4ab1c8  h:7d6d16fe54319652\n",
            "Round-33 : a:9b450e305522d69f  b:e0fafe5264f7f19f  c:be33ae988cee8cc6  d:3715636c097457a1  e:9ee4b4b7b1918383  f:f226811752b04a81  g:f1c9c9bdfff96184  h:b9f4a53c5e4ab1c8\n",
            "Round-34 : a:d27860d4676cb94e  b:9b450e305522d69f  c:e0fafe5264f7f19f  d:be33ae988cee8cc6  e:274a7c3cbe4311bb  f:9ee4b4b7b1918383  g:f226811752b04a81  h:f1c9c9bdfff96184\n",
            "Round-35 : a:a9c9005b84da9019  b:d27860d4676cb94e  c:9b450e305522d69f  d:e0fafe5264f7f19f  e:cda5dcd79da5458e  f:274a7c3cbe4311bb  g:9ee4b4b7b1918383  h:f226811752b04a81\n",
            "Round-36 : a:6d0cd464b0ff8a21  b:a9c9005b84da9019  c:d27860d4676cb94e  d:9b450e305522d69f  e:9728c1aa0adb13f3  f:cda5dcd79da5458e  g:274a7c3cbe4311bb  h:9ee4b4b7b1918383\n",
            "Round-37 : a:968a552f1e501521  b:6d0cd464b0ff8a21  c:a9c9005b84da9019  d:d27860d4676cb94e  e:5de06380051fe8bd  f:9728c1aa0adb13f3  g:cda5dcd79da5458e  h:274a7c3cbe4311bb\n",
            "Round-38 : a:f96f80ee8d97f721  b:968a552f1e501521  c:6d0cd464b0ff8a21  d:a9c9005b84da9019  e:a1b595d811ff4d3e  f:5de06380051fe8bd  g:9728c1aa0adb13f3  h:cda5dcd79da5458e\n",
            "Round-39 : a:55a0554982321d32  b:f96f80ee8d97f721  c:968a552f1e501521  d:6d0cd464b0ff8a21  e:5b58e0fcbee3e458  f:a1b595d811ff4d3e  g:5de06380051fe8bd  h:9728c1aa0adb13f3\n",
            "Round-40 : a:593306bda89f9fd8  b:55a0554982321d32  c:f96f80ee8d97f721  d:968a552f1e501521  e:1fec555f1fc71378  f:5b58e0fcbee3e458  g:a1b595d811ff4d3e  h:5de06380051fe8bd\n",
            "Round-41 : a:3488b33419408951  b:593306bda89f9fd8  c:55a0554982321d32  d:f96f80ee8d97f721  e:d960de29792a32ca  f:1fec555f1fc71378  g:5b58e0fcbee3e458  h:a1b595d811ff4d3e\n",
            "Round-42 : a:505d118d3cf242c6  b:3488b33419408951  c:593306bda89f9fd8  d:55a0554982321d32  e:f9c244e89ab78dad  f:d960de29792a32ca  g:1fec555f1fc71378  h:5b58e0fcbee3e458\n",
            "Round-43 : a:ffc06b14caaa00a2  b:505d118d3cf242c6  c:3488b33419408951  d:593306bda89f9fd8  e:6ae6544ff6a2ab71  f:f9c244e89ab78dad  g:d960de29792a32ca  h:1fec555f1fc71378\n",
            "Round-44 : a:075d79c2996b23c6  b:ffc06b14caaa00a2  c:505d118d3cf242c6  d:3488b33419408951  e:3a286f66231f977d  f:6ae6544ff6a2ab71  g:f9c244e89ab78dad  h:d960de29792a32ca\n",
            "Round-45 : a:4a6250991b901d2b  b:075d79c2996b23c6  c:ffc06b14caaa00a2  d:505d118d3cf242c6  e:71b3677223d82b0c  f:3a286f66231f977d  g:6ae6544ff6a2ab71  h:f9c244e89ab78dad\n",
            "Round-46 : a:1ad0930917fced0c  b:4a6250991b901d2b  c:075d79c2996b23c6  d:ffc06b14caaa00a2  e:4e1a3541971bd51a  f:71b3677223d82b0c  g:3a286f66231f977d  h:6ae6544ff6a2ab71\n",
            "Round-47 : a:08449b65dfed4b4d  b:1ad0930917fced0c  c:4a6250991b901d2b  d:075d79c2996b23c6  e:d596a298db16696c  f:4e1a3541971bd51a  g:71b3677223d82b0c  h:3a286f66231f977d\n",
            "Round-48 : a:d6750437d14125a1  b:08449b65dfed4b4d  c:1ad0930917fced0c  d:4a6250991b901d2b  e:9101ae5bee67e2a8  f:d596a298db16696c  g:4e1a3541971bd51a  h:71b3677223d82b0c\n",
            "Round-49 : a:e979aab5788486c3  b:d6750437d14125a1  c:08449b65dfed4b4d  d:1ad0930917fced0c  e:89a6d6ea6ac54e69  f:9101ae5bee67e2a8  g:d596a298db16696c  h:4e1a3541971bd51a\n",
            "Round-50 : a:2392846451468274  b:e979aab5788486c3  c:d6750437d14125a1  d:08449b65dfed4b4d  e:b95548b3a5683510  f:89a6d6ea6ac54e69  g:9101ae5bee67e2a8  h:d596a298db16696c\n",
            "Round-51 : a:48e9760dfd2d9c21  b:2392846451468274  c:e979aab5788486c3  d:d6750437d14125a1  e:a5218262b24a9e39  f:b95548b3a5683510  g:89a6d6ea6ac54e69  h:9101ae5bee67e2a8\n",
            "Round-52 : a:0b289b1cf43cff98  b:48e9760dfd2d9c21  c:2392846451468274  d:e979aab5788486c3  e:c13afb0aae3caf28  f:a5218262b24a9e39  g:b95548b3a5683510  h:89a6d6ea6ac54e69\n",
            "Round-53 : a:5f8c97ff652ab73e  b:0b289b1cf43cff98  c:48e9760dfd2d9c21  d:2392846451468274  e:f634ed0e682cd993  f:c13afb0aae3caf28  g:a5218262b24a9e39  h:b95548b3a5683510\n",
            "Round-54 : a:2d368a61b7dc6076  b:5f8c97ff652ab73e  c:0b289b1cf43cff98  d:48e9760dfd2d9c21  e:8ff4ec640060e08c  f:f634ed0e682cd993  g:c13afb0aae3caf28  h:a5218262b24a9e39\n",
            "Round-55 : a:6799c6923c7e82c8  b:2d368a61b7dc6076  c:5f8c97ff652ab73e  d:0b289b1cf43cff98  e:cdf7f9628fefbe14  f:8ff4ec640060e08c  g:f634ed0e682cd993  h:c13afb0aae3caf28\n",
            "Round-56 : a:640d74f1e9bd1dd9  b:6799c6923c7e82c8  c:2d368a61b7dc6076  d:5f8c97ff652ab73e  e:930a17e9b7c64fe9  f:cdf7f9628fefbe14  g:8ff4ec640060e08c  h:f634ed0e682cd993\n",
            "Round-57 : a:ec9ccd3fa60fa0d7  b:640d74f1e9bd1dd9  c:6799c6923c7e82c8  d:2d368a61b7dc6076  e:e49dbd71a2224e72  f:930a17e9b7c64fe9  g:cdf7f9628fefbe14  h:8ff4ec640060e08c\n",
            "Round-58 : a:a3f0ff967348213a  b:ec9ccd3fa60fa0d7  c:640d74f1e9bd1dd9  d:6799c6923c7e82c8  e:7653cb39e1b227a8  f:e49dbd71a2224e72  g:930a17e9b7c64fe9  h:cdf7f9628fefbe14\n",
            "Round-59 : a:cf36b3f8d396dcf0  b:a3f0ff967348213a  c:ec9ccd3fa60fa0d7  d:640d74f1e9bd1dd9  e:cd7cf12c4a541660  f:7653cb39e1b227a8  g:e49dbd71a2224e72  h:930a17e9b7c64fe9\n",
            "Round-60 : a:3572b29ec34609ee  b:cf36b3f8d396dcf0  c:a3f0ff967348213a  d:ec9ccd3fa60fa0d7  e:ad9bd24898bb88c1  f:cd7cf12c4a541660  g:7653cb39e1b227a8  h:e49dbd71a2224e72\n",
            "Round-61 : a:b0393580918478df  b:3572b29ec34609ee  c:cf36b3f8d396dcf0  d:a3f0ff967348213a  e:3c2bbe965e30af8e  f:ad9bd24898bb88c1  g:cd7cf12c4a541660  h:7653cb39e1b227a8\n",
            "Round-62 : a:e6d82941954d126c  b:b0393580918478df  c:3572b29ec34609ee  d:cf36b3f8d396dcf0  e:9890da01e41173a6  f:3c2bbe965e30af8e  g:ad9bd24898bb88c1  h:cd7cf12c4a541660\n",
            "Round-63 : a:df75bb0a786a0ad5  b:e6d82941954d126c  c:b0393580918478df  d:3572b29ec34609ee  e:478b45112cc3a0bc  f:9890da01e41173a6  g:3c2bbe965e30af8e  h:ad9bd24898bb88c1\n",
            "Round-64 : a:08f5f366238173ee  b:df75bb0a786a0ad5  c:e6d82941954d126c  d:b0393580918478df  e:3ba471072a432dec  f:478b45112cc3a0bc  g:9890da01e41173a6  h:3c2bbe965e30af8e\n",
            "Round-65 : a:0fb54e88cb43ceff  b:08f5f366238173ee  c:df75bb0a786a0ad5  d:e6d82941954d126c  e:744867ca5a0b9395  f:3ba471072a432dec  g:478b45112cc3a0bc  h:9890da01e41173a6\n",
            "Round-66 : a:84176fd243a4bf4e  b:0fb54e88cb43ceff  c:08f5f366238173ee  d:df75bb0a786a0ad5  e:c37f0236a707b508  f:744867ca5a0b9395  g:3ba471072a432dec  h:478b45112cc3a0bc\n",
            "Round-67 : a:4c71b3504f51a51f  b:84176fd243a4bf4e  c:0fb54e88cb43ceff  d:08f5f366238173ee  e:110c6c5306bea7f7  f:c37f0236a707b508  g:744867ca5a0b9395  h:3ba471072a432dec\n",
            "Round-68 : a:b5d48952e691c333  b:4c71b3504f51a51f  c:84176fd243a4bf4e  d:0fb54e88cb43ceff  e:6c4470ef9431cd0c  f:110c6c5306bea7f7  g:c37f0236a707b508  h:744867ca5a0b9395\n",
            "Round-69 : a:f64390d014009b35  b:b5d48952e691c333  c:4c71b3504f51a51f  d:84176fd243a4bf4e  e:0c2dd394c05ca4ad  f:6c4470ef9431cd0c  g:110c6c5306bea7f7  h:c37f0236a707b508\n",
            "Round-70 : a:6398425b97231c52  b:f64390d014009b35  c:b5d48952e691c333  d:4c71b3504f51a51f  e:0e3c8c392270ea55  f:0c2dd394c05ca4ad  g:6c4470ef9431cd0c  h:110c6c5306bea7f7\n",
            "Round-71 : a:3a71a3b304affc87  b:6398425b97231c52  c:f64390d014009b35  d:b5d48952e691c333  e:6e3b92a6b85b00c8  f:0e3c8c392270ea55  g:0c2dd394c05ca4ad  h:6c4470ef9431cd0c\n",
            "Round-72 : a:ad7052c2bec4d326  b:3a71a3b304affc87  c:6398425b97231c52  d:f64390d014009b35  e:0315f097294049a7  f:6e3b92a6b85b00c8  g:0e3c8c392270ea55  h:0c2dd394c05ca4ad\n",
            "Round-73 : a:02a8f27a92a31b34  b:ad7052c2bec4d326  c:3a71a3b304affc87  d:6398425b97231c52  e:06fab171def80225  f:0315f097294049a7  g:6e3b92a6b85b00c8  h:0e3c8c392270ea55\n",
            "Round-74 : a:03c2005128682e76  b:02a8f27a92a31b34  c:ad7052c2bec4d326  d:3a71a3b304affc87  e:c12d1bfee6c324cf  f:06fab171def80225  g:0315f097294049a7  h:6e3b92a6b85b00c8\n",
            "Round-75 : a:5347712508b0e788  b:03c2005128682e76  c:02a8f27a92a31b34  d:ad7052c2bec4d326  e:1b1085e401a9c7d3  f:c12d1bfee6c324cf  g:06fab171def80225  h:0315f097294049a7\n",
            "Round-76 : a:5b0d4215037d4927  b:5347712508b0e788  c:03c2005128682e76  d:02a8f27a92a31b34  e:818803be89a1ac1e  f:1b1085e401a9c7d3  g:c12d1bfee6c324cf  h:06fab171def80225\n",
            "Round-77 : a:6c6cbc25b02cc098  b:5b0d4215037d4927  c:5347712508b0e788  d:03c2005128682e76  e:bec133dd11b60155  f:818803be89a1ac1e  g:1b1085e401a9c7d3  h:c12d1bfee6c324cf\n",
            "Round-78 : a:88a37163a43cd37f  b:6c6cbc25b02cc098  c:5b0d4215037d4927  d:5347712508b0e788  e:0b70a16ddf600c43  f:bec133dd11b60155  g:818803be89a1ac1e  h:1b1085e401a9c7d3\n",
            "Round-79 : a:dad690a5f52925be  b:88a37163a43cd37f  c:6c6cbc25b02cc098  d:5b0d4215037d4927  e:78661723c68ebf87  f:0b70a16ddf600c43  g:bec133dd11b60155  h:818803be89a1ac1e\n",
            "Round-80 : a:34e66acb0c1f45bd  b:dad690a5f52925be  c:88a37163a43cd37f  d:6c6cbc25b02cc098  e:62dabbf0f506c9cf  f:78661723c68ebf87  g:0b70a16ddf600c43  h:bec133dd11b60155\n"
          ]
        }
      ]
    },
    {
      "cell_type": "code",
      "source": [
        "H"
      ],
      "metadata": {
        "colab": {
          "base_uri": "https://localhost:8080/"
        },
        "id": "8gP1QDkbOWoZ",
        "outputId": "990230ce-acca-4527-e260-a06c304bbd13"
      },
      "execution_count": null,
      "outputs": [
        {
          "output_type": "execute_result",
          "data": {
            "text/plain": [
              "['818edeb47c656189',\n",
              " '32210f880dea741b',\n",
              " 'c778dce77e06583a',\n",
              " 'b20fa1c398ead5df',\n",
              " 'ab940b4844e3d41f',\n",
              " 'db5ddf19e4e80df3',\n",
              " '55d549d5833409da',\n",
              " '09dca6e469e1739b']"
            ]
          },
          "metadata": {},
          "execution_count": 54
        }
      ]
    }
  ]
}